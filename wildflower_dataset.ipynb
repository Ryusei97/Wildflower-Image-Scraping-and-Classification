{
 "cells": [
  {
   "cell_type": "markdown",
   "metadata": {},
   "source": [
    "# Data Collection"
   ]
  },
  {
   "cell_type": "markdown",
   "metadata": {},
   "source": [
    "If you just want to access the colorado wildflower dataset, the files have been since been uploaded to Kaggle.com. This notebook showcases the process used to collect the wildflower data. "
   ]
  },
  {
   "cell_type": "markdown",
   "metadata": {},
   "source": [
    "## Flower Names\n",
    "\n",
    "Images of flowers need to be screped off the web to create the dataset. Flower names will be taken from https://uswildflowers.com/wfquery.php?State=CO and Flickr image search will be used to collect 200 images for each flower type. "
   ]
  },
  {
   "cell_type": "markdown",
   "metadata": {},
   "source": [
    "reference \n",
    "https://www.hindawi.com/journals/wcmc/2020/8870649/#materials-and-methods"
   ]
  },
  {
   "cell_type": "code",
   "execution_count": 19,
   "metadata": {},
   "outputs": [],
   "source": [
    "# Extract Flower Names\n",
    "import requests\n",
    "from bs4 import BeautifulSoup\n",
    "\n",
    "page = 'utils/US Wildflower\\'s Database of Wildflowers for Colorado.html'\n",
    "with open(page) as fp:\n",
    "    soup = BeautifulSoup(fp, 'html.parser')\n",
    "\n",
    "tags = soup.find_all('img', alt=True)\n",
    "flowers = [tag.get('alt').replace('*', '') for tag in tags]\n",
    "flowers.sort()\n",
    "\n",
    "flowers.remove('Follow on Twitter')\n",
    "flowers.remove('Quantcast')"
   ]
  },
  {
   "cell_type": "code",
   "execution_count": 20,
   "metadata": {},
   "outputs": [
    {
     "name": "stdout",
     "output_type": "stream",
     "text": [
      "['Achillea millefolium', 'Agalinis tenuifolia', 'Allium acuminatum', 'Allium cernuum', 'Ambrosia artemisiifolia', 'Ambrosia trifida', 'Amelanchier utahensis', 'Amorpha fruticosa', 'Amsinckia menziesii', 'Anaphalis margaritacea', 'Anemone virginiana', 'Anthemis cotula', 'Apios americana', 'Asclepias incarnata', 'Asclepias tuberosa', 'Astragalus canadensis', 'Astragalus schmolliae', 'Balsamorhiza sagittata', 'Bidens aristosa', 'Bidens bipinnata', 'Boechera laevigata', 'Calypso bulbosa', 'Calystegia sepium', 'Campanula rotundifolia', 'Campsis radicans', 'Carduus nutans', 'Castilleja linariifolia', 'Centaurea cyanus', 'Chaenactis douglasii', 'Chamerion angustifolium', 'Chrysanthemum leucanthemum', 'Cichorium intybus', 'Cirsium vulgare', 'Claytonia lanceolata', 'Claytonia perfoliata', 'Clematis hirsutissima', 'Clematis ligusticifolia', 'Clematis occidentalis', 'Cleomella palmeriana', 'Collinsia parviflora', 'Collomia grandiflora', 'Collomia linearis', 'Cordylanthus wrightii', 'Coreopsis lanceolata', 'Cornus canadensis', 'Cornus sericea', 'Coronilla varia', 'Crepis intermedia', 'Cuscuta gronovii', 'Cynoglossum officinale', 'Cypripedium parviflorum', 'Dasiphora fruticosa', 'Datura stramonium', 'Datura wrightii', 'Daucus carota', 'Delphinium carolinianum', 'Desmanthus illinoensis', 'Dianthus armeria', 'Echinacea purpurea', 'Echium vulgare', 'Equisetum laevigatum', 'Erigeron philadelphicus', 'Erigeron strigosus', 'Erodium cicutarium', 'Erythronium grandiflorum', 'Eschscholzia californica', 'Euphorbia marginata', 'Eutrochium maculatum', 'Fallopia japonica', 'Fragaria virginiana', 'Fritillaria pudica', 'Gaillardia pinnatifida', 'Gaillardia pulchella', 'Gentiana algida', 'Geranium viscosissimum', 'Glandularia canadensis', 'Glechoma hederacea', 'Grindelia squarrosa', 'Helenium autumnale', 'Helianthus annuus', 'Helianthus tuberosus', 'Hemerocallis fulva', 'Heracleum maximum', 'Hesperis matronalis', 'Heterotheca subaxillaris', 'Hieracium aurantiacum', 'Hydrophyllum capitatum', 'Hymenoxys grandiflora', 'Hypochaeris radicata', 'Hypoxis hirsuta', 'Impatiens capensis', 'Ipomopsis aggregata', 'Krigia biflora', 'Lactuca canadensis', 'Lactuca serriola', 'Lamium amplexicaule', 'Lamium purpureum', 'Lathyrus latifolius', 'Lilium philadelphicum', 'Linaria dalmatica', 'Linaria vulgaris', 'Linum lewisii', 'Lithophragma parviflorum', 'Lithospermum ruderale', 'Lobelia cardinalis', 'Lobelia siphilitica', 'Lotus corniculatus', 'Ludwigia alternifolia', 'Lupinus argenteus', 'Lycopus uniflorus', 'Lythrum salicaria', 'Mahonia repens', 'Maianthemum racemosum', 'Maianthemum stellatum', 'Matricaria discoidea', 'Medicago lupulina', 'Melampodium leucanthum', 'Melilotus albus', 'Melilotus officinalis', 'Mimulus nanus', 'Mitella stauropetala', 'Monarda fistulosa', 'Nuphar lutea', 'Nymphaea odorata', 'Oenothera pallida', 'Opuntia humifusa', 'Orobanche uniflora', 'Osmorhiza longistylis', 'Oxalis dillenii', 'Oxalis violacea', 'Pedicularis canadensis', 'Pedicularis centranthera', 'Peritoma serrulata', 'Persicaria amphibia', 'Persicaria punctata', 'Phacelia hastata', 'Phlox diffusa', 'Phyla lanceolata', 'Physalis virginiana', 'Plantago lanceolata', 'Polemonium pulcherrimum', 'Potentilla recta', 'Prunella vulgaris', 'Prunus americana', 'Prunus virginiana', 'Purshia stansburiana', 'Ranunculus abortivus', 'Ranunculus glaberrimus', 'Ratibida columnifera', 'Rhus aromatica', 'Rhus glabra', 'Rosa woodsii', 'Rubus parviflorus', 'Rudbeckia hirta', 'Rudbeckia laciniata', 'Rudbeckia triloba', 'Sagittaria latifolia', 'Sambucus nigra ssp canadensis', 'Sambucus nigra ssp cerulea', 'Sambucus racemosa', 'Sanguisorba minor', 'Saponaria officinalis', 'Silene latifolia', 'Solanum carolinense', 'Solanum dulcamara', 'Solidago altissima', 'Stanleya pinnata', 'Stellaria media', 'Streptanthus cordatus', 'Symphoricarpos albus', 'Symphyotrichum novae-angliae', 'Tanacetum vulgare', 'Taraxacum officinale', 'Teucrium canadense', 'Thalictrum occidentale', 'Thalictrum revolutum', 'Thermopsis montana', 'Toxicodendron rydbergii', 'Toxicoscordion paniculatum', 'Tragopogon dubius', 'Trautvetteria caroliniensis', 'Trifolium pratense', 'Trifolium repens', 'Trillium ovatum', 'Triodanis perfoliata', 'Triteleia grandiflora', 'Vaccaria hispanica', 'Verbascum blattaria', 'Verbascum thapsus', 'Veronica anagallis-aquatica', 'Veronica persica', 'Viola bicolor', 'Viola canadensis', 'Viola purpurea'] 194\n"
     ]
    }
   ],
   "source": [
    "print(flowers, len(flowers))\n"
   ]
  },
  {
   "cell_type": "markdown",
   "metadata": {},
   "source": [
    "## Web Scraper"
   ]
  },
  {
   "cell_type": "markdown",
   "metadata": {},
   "source": [
    "Install the flickr_scraper using the instructions [here](https://github.com/ultralytics/flickr_scraper). Add `time.sleep(0.01)` to `flickr_scraper.py` to prevent sending too many requests at a time. Uncomment the code below to start downloading images. Add any keywords to the search to improve results accordingly."
   ]
  },
  {
   "cell_type": "code",
   "execution_count": 37,
   "metadata": {},
   "outputs": [],
   "source": [
    "# Download images\n",
    "# Change line 690 in flickerapi core.py. \n",
    "# photoset = list(rsp)[0]\n",
    "\n",
    "from flickr_scraper.flickr_scraper import get_urls\n",
    "\n",
    "\n",
    "# for flower in flowers[flowers.index('Lactuca serriola'):]:\n",
    "#     get_urls(search=flower + ' flower', n=200, download=True)\n",
    "\n",
    "\n"
   ]
  },
  {
   "cell_type": "markdown",
   "metadata": {},
   "source": [
    "## Raw Image Data"
   ]
  },
  {
   "cell_type": "markdown",
   "metadata": {},
   "source": [
    "A total of 34,665 images were scraped using the web scraper. However, there is no guarantee that the scraped images contain the correct data. We will use object detection to extract the desirable features from the images to create the dataset. Create an object detection dataset using Roboflow (or other methods of your choice). An object detection training notebook can be found in `object detection/flower_detection.ipynb`. once the object detection model is created, run `utils/flowerfilter.py` using the code below to extract all flower objects from the images. Some classes have more than 200 images because I left the images from my small scale test in the dataset. "
   ]
  },
  {
   "cell_type": "code",
   "execution_count": 4,
   "metadata": {},
   "outputs": [
    {
     "name": "stdout",
     "output_type": "stream",
     "text": [
      "       Image Count\n",
      "count   194.000000\n",
      "mean    178.020619\n",
      "std      73.487721\n",
      "min       0.000000\n",
      "25%     145.500000\n",
      "50%     210.000000\n",
      "75%     227.000000\n",
      "max     316.000000\n",
      "Total number of images scraped: 34536\n"
     ]
    },
    {
     "data": {
      "text/plain": [
       "array([[<AxesSubplot: title={'center': 'Image Count'}>]], dtype=object)"
      ]
     },
     "execution_count": 4,
     "metadata": {},
     "output_type": "execute_result"
    },
    {
     "data": {
      "image/png": "[encoded data removed]",
      "text/plain": [
       "<Figure size 640x480 with 1 Axes>"
      ]
     },
     "metadata": {},
     "output_type": "display_data"
    }
   ],
   "source": [
    "import pandas as pd\n",
    "import os\n",
    "\n",
    "l1 = []\n",
    "l2 = []\n",
    "\n",
    "for flower in flowers:\n",
    "    dir_path = os.path.join('images', flower.replace(' ', '_') + '_flower')\n",
    "    count = 0\n",
    "\n",
    "    for path in os.listdir(dir_path):\n",
    "\n",
    "        if os.path.isfile(os.path.join(dir_path, path)):\n",
    "            if os.path.getsize(os.path.join(dir_path, path)) < 1 * 1024:\n",
    "                print(os.path.join(dir_path, path), os.path.getsize(os.path.join(dir_path, path)))\n",
    "                os.remove(os.path.join(dir_path, path))\n",
    "            else:\n",
    "                count += 1\n",
    "    l1.append(flower)\n",
    "    l2.append(count)\n",
    "\n",
    "images_df = pd.DataFrame({'Species':l1, 'Image Count':l2})\n",
    "\n",
    "print(images_df.describe())\n",
    "tot = sum(images_df['Image Count'])\n",
    "print(f'Total number of images scraped: {tot}')\n",
    "images_df.hist()\n",
    "\n"
   ]
  },
  {
   "cell_type": "code",
   "execution_count": 39,
   "metadata": {},
   "outputs": [],
   "source": [
    "# Run the object detection filter\n",
    "# Change the flowers list in flowerfilter.py to extract flowers from specified folders\n",
    "\n",
    "# !python utils/flowerfilter.py"
   ]
  },
  {
   "cell_type": "markdown",
   "metadata": {},
   "source": [
    "## Dataset"
   ]
  },
  {
   "cell_type": "markdown",
   "metadata": {},
   "source": [
    "After running the code above, the flower dataset will be created. You will need to clean the data in order to remove any misclassified images from the dataset. This could occur if one image contains multiple classes of flowers. I Manually removed incorrect images and misidentified objects. Some classes do not have many images uploaded to flickr. Classes with less than 84 images were removed from the dataset. "
   ]
  },
  {
   "cell_type": "code",
   "execution_count": 15,
   "metadata": {},
   "outputs": [
    {
     "name": "stdout",
     "output_type": "stream",
     "text": [
      "       Image Count\n",
      "count   164.000000\n",
      "mean    266.219512\n",
      "std     117.925163\n",
      "min      84.000000\n",
      "25%     195.500000\n",
      "50%     254.000000\n",
      "75%     304.250000\n",
      "max     835.000000\n",
      "Total number of images in Dataset: 43660\n"
     ]
    },
    {
     "data": {
      "text/plain": [
       "array([[<AxesSubplot: title={'center': 'Image Count'}>]], dtype=object)"
      ]
     },
     "execution_count": 15,
     "metadata": {},
     "output_type": "execute_result"
    },
    {
     "data": {
      "image/png": "[encoded data removed]",
      "text/plain": [
       "<Figure size 640x480 with 1 Axes>"
      ]
     },
     "metadata": {},
     "output_type": "display_data"
    }
   ],
   "source": [
    "\n",
    "l1 = []\n",
    "l2 = []\n",
    "\n",
    "for flower in flowers:\n",
    "    dir_path = os.path.join('dataset', flower.replace(' ', '_'))\n",
    "    count = 0\n",
    "    if not os.path.exists(dir_path):\n",
    "        continue\n",
    "    \n",
    "    for path in os.listdir(dir_path):\n",
    "\n",
    "        if os.path.isfile(os.path.join(dir_path, path)):\n",
    "            count += 1\n",
    "    l1.append(flower)\n",
    "    l2.append(count)\n",
    "\n",
    "dataset_df = pd.DataFrame({'Species':l1, 'Image Count':l2})\n",
    "\n",
    "print(dataset_df.describe())\n",
    "tot = sum(dataset_df['Image Count'])\n",
    "print(f'Total number of images in Dataset: {tot}')\n",
    "dataset_df.hist()"
   ]
  },
  {
   "cell_type": "code",
   "execution_count": 16,
   "metadata": {},
   "outputs": [
    {
     "data": {
      "text/html": [
       "<div>\n",
       "<style scoped>\n",
       "    .dataframe tbody tr th:only-of-type {\n",
       "        vertical-align: middle;\n",
       "    }\n",
       "\n",
       "    .dataframe tbody tr th {\n",
       "        vertical-align: top;\n",
       "    }\n",
       "\n",
       "    .dataframe thead th {\n",
       "        text-align: right;\n",
       "    }\n",
       "</style>\n",
       "<table border=\"1\" class=\"dataframe\">\n",
       "  <thead>\n",
       "    <tr style=\"text-align: right;\">\n",
       "      <th></th>\n",
       "      <th>Species</th>\n",
       "      <th>Image Count</th>\n",
       "    </tr>\n",
       "  </thead>\n",
       "  <tbody>\n",
       "  </tbody>\n",
       "</table>\n",
       "</div>"
      ],
      "text/plain": [
       "Empty DataFrame\n",
       "Columns: [Species, Image Count]\n",
       "Index: []"
      ]
     },
     "execution_count": 16,
     "metadata": {},
     "output_type": "execute_result"
    }
   ],
   "source": [
    "delete = dataset_df[dataset_df['Image Count'] < 84]\n",
    "\n",
    "delete"
   ]
  },
  {
   "cell_type": "code",
   "execution_count": 17,
   "metadata": {},
   "outputs": [
    {
     "name": "stdout",
     "output_type": "stream",
     "text": [
      "164\n"
     ]
    }
   ],
   "source": [
    "import os\n",
    "import shutil\n",
    "\n",
    "no_images = list(delete['Species'])\n",
    "\n",
    "for folder in no_images:    \n",
    "    unwanted = os.path.join('dataset', folder.replace(' ', '_'))\n",
    "    if os.path.exists(unwanted) and os.path.isdir(unwanted):\n",
    "        shutil.rmtree(unwanted)\n",
    "\n",
    "flowers = os.listdir('dataset')\n",
    "print(len(flowers))\n"
   ]
  }
 ],
 "metadata": {
  "kernelspec": {
   "display_name": "Python 3.11.3 ('flower')",
   "language": "python",
   "name": "python3"
  },
  "language_info": {
   "codemirror_mode": {
    "name": "ipython",
    "version": 3
   },
   "file_extension": ".py",
   "mimetype": "text/x-python",
   "name": "python",
   "nbconvert_exporter": "python",
   "pygments_lexer": "ipython3",
   "version": "3.9.16"
  },
  "orig_nbformat": 4,
  "vscode": {
   "interpreter": {
    "hash": "0245c70d67cb366254bc3a041aeb7fda6e26e5a535c6487e535f9a9524f503c2"
   }
  }
 },
 "nbformat": 4,
 "nbformat_minor": 2
}
